{
 "cells": [
  {
   "cell_type": "markdown",
   "id": "23a2c13b",
   "metadata": {},
   "source": [
    "# Semilla de reproductividad en simulación de datos"
   ]
  },
  {
   "cell_type": "markdown",
   "id": "f2914040",
   "metadata": {},
   "source": [
    "En simulación de datos, la **semilla de reproductividad** (o simplemente 'semilla', en inglés *seed*) es un valor numérico que se utiliza para inicializar el generador de números pseudoaleatorios. Su propósito es garantizar que los resultados de la simulación sean reproducibles."
   ]
  },
  {
   "cell_type": "markdown",
   "id": "fcd8a47c",
   "metadata": {},
   "source": [
    "#### ¿Por qué es importante?"
   ]
  },
  {
   "cell_type": "markdown",
   "id": "69dce8af",
   "metadata": {},
   "source": [
    "Los números generados en una simulación informática no son realmente aleatorios, sino pseudoaleatorios, lo que significa que se generan mediante algoritmos deterministas. Si se utiliza la misma semilla, la secuencia de números aleatorios será idéntica en cada ejecución del código, lo que permite reproducir experimentos, depurar código y comparar resultados de manera controlada."
   ]
  },
  {
   "cell_type": "markdown",
   "id": "78d37470",
   "metadata": {},
   "source": [
    "#### Ejemplo en Python"
   ]
  },
  {
   "cell_type": "code",
   "execution_count": null,
   "id": "65498542",
   "metadata": {},
   "outputs": [],
   "source": [
    "import numpy as np\n",
    "\n",
    "# Fijamos la semilla\n",
    "np.random.seed(42)\n",
    "# Generamos 5 números aleatorios\n",
    "print(np.random.rand(5))"
   ]
  },
  {
   "cell_type": "markdown",
   "id": "fe96ef13",
   "metadata": {},
   "source": [
    "Cada vez que ejecutes este código con la misma semilla (`42`), obtendrás exactamente los mismos valores."
   ]
  },
  {
   "cell_type": "markdown",
   "id": "5478745b",
   "metadata": {},
   "source": [
    "También puedes usar la biblioteca `random` en Python:"
   ]
  },
  {
   "cell_type": "code",
   "execution_count": null,
   "id": "bc137853",
   "metadata": {},
   "outputs": [],
   "source": [
    "import random\n",
    "\n",
    "# Fijamos la semilla\n",
    "random.seed(42)\n",
    "# Generamos un número aleatorio\n",
    "print(random.random())"
   ]
  },
  {
   "cell_type": "markdown",
   "id": "33c82c7c",
   "metadata": {},
   "source": [
    "#### Aplicaciones"
   ]
  },
  {
   "cell_type": "markdown",
   "id": "a68b76bb",
   "metadata": {},
   "source": [
    "- **Simulación de Montecarlo**: Permite repetir experimentos y comparar resultados.\n",
    "- **Entrenamiento de modelos de Machine Learning**: Garantiza que los modelos se entrenen con los mismos datos aleatorios en cada ejecución.\n",
    "- **Depuración de código**: Si un código basado en aleatoriedad genera un error, fijar la semilla permite replicar el problema.\n",
    "- **Comparación de algoritmos**: Asegura que los métodos comparados utilicen exactamente la misma secuencia de números aleatorios."
   ]
  },
  {
   "cell_type": "markdown",
   "id": "70461864",
   "metadata": {},
   "source": [
    "Si no se fija una semilla, el generador de números pseudoaleatorios usará una inicialización basada en el tiempo del sistema u otros factores, lo que hará que cada ejecución sea distinta."
   ]
  },
  {
   "cell_type": "markdown",
   "id": "c4d4d1d9",
   "metadata": {},
   "source": [
    "En resumen, la semilla de reproductividad es una herramienta clave en la simulación y experimentación computacional para garantizar la repetibilidad de los resultados."
   ]
  }
 ],
 "metadata": {
  "kernelspec": {
   "display_name": "env",
   "language": "python",
   "name": "python3"
  },
  "language_info": {
   "name": "python",
   "version": "3.9.13"
  }
 },
 "nbformat": 4,
 "nbformat_minor": 5
}
