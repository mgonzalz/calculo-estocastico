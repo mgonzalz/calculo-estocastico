{
 "cells": [
  {
   "cell_type": "markdown",
   "id": "f23d969b",
   "metadata": {},
   "source": [
    "# Método de Montecarlo en simulación de datos"
   ]
  },
  {
   "cell_type": "markdown",
   "id": "91780a27",
   "metadata": {},
   "source": [
    "El **método de Montecarlo** es una técnica de simulación utilizada para estimar soluciones a problemas matemáticos y estadísticos mediante la generación de números aleatorios y el análisis de sus resultados. Se basa en la repetición de experimentos computacionales utilizando aleatoriedad para aproximar soluciones numéricas."
   ]
  },
  {
   "cell_type": "markdown",
   "id": "842ee7b8",
   "metadata": {},
   "source": [
    "#### ¿Cómo funciona el método de Montecarlo?"
   ]
  },
  {
   "cell_type": "markdown",
   "id": "3da8f38d",
   "metadata": {},
   "source": [
    "El método de Montecarlo sigue estos pasos básicos:\n",
    "\n",
    "1. **Definir el problema:** Se establece el problema que se desea resolver.\n",
    "2. **Generar números aleatorios:** Se generan muestras aleatorias que representen los posibles escenarios.\n",
    "3. **Evaluar la función objetivo:** Se aplica la función matemática que describe el problema.\n",
    "4. **Estimar el resultado:** Se calcula una estimación basada en la media de las simulaciones realizadas.\n",
    "5. **Reducir el error:** Aumentando el número de iteraciones, se obtiene una mejor aproximación del resultado."
   ]
  },
  {
   "cell_type": "markdown",
   "id": "6c6d5a82",
   "metadata": {},
   "source": [
    "#### Ejemplo en Python: Aproximación del número π con Montecarlo"
   ]
  },
  {
   "cell_type": "code",
   "execution_count": null,
   "id": "7a5b4edc",
   "metadata": {},
   "outputs": [],
   "source": [
    "import numpy as np\n",
    "\n",
    "# Fijamos la semilla para reproducibilidad\n",
    "np.random.seed(42)\n",
    "\n",
    "# Número de puntos a generar\n",
    "N = 10000  \n",
    "\n",
    "# Generamos puntos aleatorios en el cuadrado [-1,1] x [-1,1]\n",
    "x = np.random.uniform(-1, 1, N)\n",
    "y = np.random.uniform(-1, 1, N)\n",
    "\n",
    "# Contamos los puntos dentro del círculo de radio 1\n",
    "dentro_circulo = x**2 + y**2 <= 1\n",
    "pi_estimado = 4 * np.sum(dentro_circulo) / N\n",
    "\n",
    "print(f\"Estimación de π con {N} iteraciones: {pi_estimado}\")"
   ]
  },
  {
   "cell_type": "markdown",
   "id": "af5cb692",
   "metadata": {},
   "source": [
    "Cada vez que aumentamos el número de iteraciones `N`, la estimación de π mejora y se acerca más a su valor real."
   ]
  },
  {
   "cell_type": "markdown",
   "id": "adcc22b8",
   "metadata": {},
   "source": [
    "#### Aplicaciones del método de Montecarlo"
   ]
  },
  {
   "cell_type": "markdown",
   "id": "6518538a",
   "metadata": {},
   "source": [
    "- **Matemáticas:** Cálculo de integrales numéricas de funciones complejas.\n",
    "- **Finanzas:** Valoración de opciones financieras y análisis de riesgo.\n",
    "- **Física:** Modelado de trayectorias de partículas en simulaciones cuánticas y termodinámicas.\n",
    "- **Optimización:** Búsqueda de soluciones en problemas complejos donde los métodos deterministas son costosos.\n",
    "- **Machine Learning:** Estimaciones probabilísticas y muestreo de distribuciones de datos."
   ]
  },
  {
   "cell_type": "markdown",
   "id": "171b4ea5",
   "metadata": {},
   "source": [
    "#### Ventajas y desventajas del método de Montecarlo"
   ]
  },
  {
   "cell_type": "markdown",
   "id": "965c983b",
   "metadata": {},
   "source": [
    "##### Ventajas:\n",
    "- Fácil de implementar.\n",
    "- Se adapta a problemas complejos con muchas variables.\n",
    "- Puede manejar incertidumbre y ruido en los datos.\n",
    "\n",
    "##### Desventajas:\n",
    "- Requiere un gran número de simulaciones para obtener alta precisión.\n",
    "- Puede ser computacionalmente costoso.\n",
    "- Depende de la calidad del generador de números pseudoaleatorios."
   ]
  },
  {
   "cell_type": "markdown",
   "id": "c3152f7a",
   "metadata": {},
   "source": [
    "En resumen, el método de Montecarlo es una herramienta poderosa en simulación y análisis de datos que permite resolver problemas matemáticos complejos mediante la generación de números aleatorios. Se usa en numerosos campos y su precisión mejora con el número de simulaciones realizadas."
   ]
  }
 ],
 "metadata": {
  "kernelspec": {
   "display_name": "env",
   "language": "python",
   "name": "python3"
  },
  "language_info": {
   "name": "python",
   "version": "3.9.13"
  }
 },
 "nbformat": 4,
 "nbformat_minor": 5
}
