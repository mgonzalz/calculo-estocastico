{
 "cells": [
  {
   "cell_type": "markdown",
   "metadata": {},
   "source": [
    "# **Tarea: simulación y análisis de Paseos Aleatorios Simples.**\n",
    "Esta tarea tiene como objetivo la implementación y análisis de paseos aleatorios simples en dos escenarios:\n",
    "1. **Tiempo discreto:** $t\\in\\{1,2,\\ldots,\\}$.\n",
    "2. **Tiempo continuo:** $t\\in [0,  \\infty)$.\n",
    "\n",
    "Además, se realizará un **análisis estadístico** del proceso en distintos instantes de tiempo y se utilizará el **método de Montecarlo** para validar las propiedades del proceso."
   ]
  },
  {
   "cell_type": "markdown",
   "metadata": {},
   "source": [
    "## **Librerías a utilizar.**\n",
    "Las librerias a utilizar quedan definidas para poder instalarse en un `requirements.txt` file."
   ]
  },
  {
   "cell_type": "code",
   "execution_count": null,
   "metadata": {},
   "outputs": [],
   "source": [
    "import numpy as np"
   ]
  },
  {
   "cell_type": "markdown",
   "metadata": {},
   "source": [
    "## **Parte 1: Paseo Aleatorio Simple en tiempo discreto.**\n",
    "Un **paseo aleatorio simple** es un proceso estocástico definido por:\n",
    "$$\n",
    "S_t = S_{t-1} + X_t, \\quad t = 1, 2, 3, \\dots\n",
    "$$\n",
    "\n",
    "dónde:\n",
    "- $S_t$  representa la posición en el instante  $t$.\n",
    "- $X_t$  es una variable aleatoria i.i.d. tales que:\n",
    "  $$\n",
    "  X_t =\n",
    "  \\begin{cases} \n",
    "  +1, & \\text{con probabilidad } \\frac{1}{2} \\\\\n",
    "  -1, & \\text{con probabilidad } \\frac{1}{2} \n",
    "  \\end{cases}\n",
    "  $$\n",
    "\n",
    "Se pide:\n",
    "1. Fijar la semilla de reproducibilidad en 987.\n",
    "2. Generar 200 realizaciones del paseo aleatorio en tiempo discreto.\n",
    "3. Representar gráficamente las trayectorias de las 200 simulaciones en la misma figura."
   ]
  },
  {
   "cell_type": "code",
   "execution_count": null,
   "metadata": {},
   "outputs": [],
   "source": []
  }
 ],
 "metadata": {
  "kernelspec": {
   "display_name": "env",
   "language": "python",
   "name": "python3"
  },
  "language_info": {
   "name": "python",
   "version": "3.9.13"
  }
 },
 "nbformat": 4,
 "nbformat_minor": 2
}
